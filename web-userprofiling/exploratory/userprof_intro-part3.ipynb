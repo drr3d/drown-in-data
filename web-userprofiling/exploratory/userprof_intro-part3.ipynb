{
 "cells": [
  {
   "cell_type": "code",
   "execution_count": 1,
   "metadata": {
    "collapsed": false
   },
   "outputs": [
    {
     "name": "stderr",
     "output_type": "stream",
     "text": [
      "/root/anaconda2/lib/python2.7/site-packages/IPython/core/interactiveshell.py:2717: DtypeWarning: Columns (31) have mixed types. Specify dtype option on import or set low_memory=False.\n",
      "  interactivity=interactivity, compiler=compiler, result=result)\n"
     ]
    },
    {
     "data": {
      "text/html": [
       "<div>\n",
       "<style>\n",
       "    .dataframe thead tr:only-child th {\n",
       "        text-align: right;\n",
       "    }\n",
       "\n",
       "    .dataframe thead th {\n",
       "        text-align: left;\n",
       "    }\n",
       "\n",
       "    .dataframe tbody tr th {\n",
       "        vertical-align: top;\n",
       "    }\n",
       "</style>\n",
       "<table border=\"1\" class=\"dataframe\">\n",
       "  <thead>\n",
       "    <tr style=\"text-align: right;\">\n",
       "      <th></th>\n",
       "      <th>user_id</th>\n",
       "      <th>gender</th>\n",
       "      <th>birthdate</th>\n",
       "      <th>event</th>\n",
       "      <th>event_time</th>\n",
       "      <th>city</th>\n",
       "      <th>browser</th>\n",
       "      <th>os</th>\n",
       "      <th>device</th>\n",
       "      <th>carrier</th>\n",
       "      <th>manufacturer</th>\n",
       "      <th>duration</th>\n",
       "      <th>topic_id</th>\n",
       "      <th>article_id</th>\n",
       "    </tr>\n",
       "  </thead>\n",
       "  <tbody>\n",
       "    <tr>\n",
       "      <th>0</th>\n",
       "      <td>1026349329</td>\n",
       "      <td>male</td>\n",
       "      <td>21.0</td>\n",
       "      <td>read_article</td>\n",
       "      <td>2017-03-07 06:56:59</td>\n",
       "      <td>Jakarta</td>\n",
       "      <td>N-A</td>\n",
       "      <td>Android</td>\n",
       "      <td>N-A</td>\n",
       "      <td>TELKOMSEL</td>\n",
       "      <td>OnePlus</td>\n",
       "      <td>N-A</td>\n",
       "      <td>22553543,522681656,41566010,46170458,1027266267</td>\n",
       "      <td>1028322564</td>\n",
       "    </tr>\n",
       "    <tr>\n",
       "      <th>1</th>\n",
       "      <td>1035461267</td>\n",
       "      <td>male</td>\n",
       "      <td>28.0</td>\n",
       "      <td>read_article</td>\n",
       "      <td>2017-04-26 21:14:18</td>\n",
       "      <td>Surabaya</td>\n",
       "      <td>Chrome</td>\n",
       "      <td>Android</td>\n",
       "      <td>Android</td>\n",
       "      <td>N-A</td>\n",
       "      <td>N-A</td>\n",
       "      <td>N-A</td>\n",
       "      <td>143865906,27432949,98040676,52353894,1035581805</td>\n",
       "      <td>1036034482</td>\n",
       "    </tr>\n",
       "    <tr>\n",
       "      <th>2</th>\n",
       "      <td>701987221</td>\n",
       "      <td>male</td>\n",
       "      <td>62.0</td>\n",
       "      <td>article_comment</td>\n",
       "      <td>2017-05-23 18:07:11</td>\n",
       "      <td>Jakarta</td>\n",
       "      <td>N-A</td>\n",
       "      <td>Android</td>\n",
       "      <td>N-A</td>\n",
       "      <td>TELKOMSEL</td>\n",
       "      <td>LENOVO</td>\n",
       "      <td>N-A</td>\n",
       "      <td>N-A</td>\n",
       "      <td>N-A</td>\n",
       "    </tr>\n",
       "    <tr>\n",
       "      <th>3</th>\n",
       "      <td>771752788</td>\n",
       "      <td>male</td>\n",
       "      <td>25.0</td>\n",
       "      <td>spent_time</td>\n",
       "      <td>2017-02-23 07:43:15</td>\n",
       "      <td>Jakarta</td>\n",
       "      <td>N-A</td>\n",
       "      <td>Android</td>\n",
       "      <td>N-A</td>\n",
       "      <td>TELKOMSEL</td>\n",
       "      <td>samsung</td>\n",
       "      <td>N-A</td>\n",
       "      <td>361858614,46904429,91265302,27428266</td>\n",
       "      <td>1009162668</td>\n",
       "    </tr>\n",
       "    <tr>\n",
       "      <th>4</th>\n",
       "      <td>765731006</td>\n",
       "      <td>female</td>\n",
       "      <td>21.0</td>\n",
       "      <td>spent_time</td>\n",
       "      <td>2017-03-10 19:45:39</td>\n",
       "      <td>Jakarta</td>\n",
       "      <td>N-A</td>\n",
       "      <td>Android</td>\n",
       "      <td>N-A</td>\n",
       "      <td>TELKOMSEL</td>\n",
       "      <td>OPPO</td>\n",
       "      <td>N-A</td>\n",
       "      <td>N-A</td>\n",
       "      <td>1032594876</td>\n",
       "    </tr>\n",
       "  </tbody>\n",
       "</table>\n",
       "</div>"
      ],
      "text/plain": [
       "      user_id  gender  birthdate            event           event_time      city browser       os   device    carrier manufacturer duration                                         topic_id  article_id\n",
       "0  1026349329    male       21.0     read_article  2017-03-07 06:56:59   Jakarta     N-A  Android      N-A  TELKOMSEL      OnePlus      N-A  22553543,522681656,41566010,46170458,1027266267  1028322564\n",
       "1  1035461267    male       28.0     read_article  2017-04-26 21:14:18  Surabaya  Chrome  Android  Android        N-A          N-A      N-A  143865906,27432949,98040676,52353894,1035581805  1036034482\n",
       "2   701987221    male       62.0  article_comment  2017-05-23 18:07:11   Jakarta     N-A  Android      N-A  TELKOMSEL       LENOVO      N-A                                              N-A         N-A\n",
       "3   771752788    male       25.0       spent_time  2017-02-23 07:43:15   Jakarta     N-A  Android      N-A  TELKOMSEL      samsung      N-A             361858614,46904429,91265302,27428266  1009162668\n",
       "4   765731006  female       21.0       spent_time  2017-03-10 19:45:39   Jakarta     N-A  Android      N-A  TELKOMSEL         OPPO      N-A                                              N-A  1032594876"
      ]
     },
     "execution_count": 1,
     "metadata": {},
     "output_type": "execute_result"
    }
   ],
   "source": [
    "import os\n",
    "import numpy as np\n",
    "import datetime as DT\n",
    "\n",
    "import matplotlib.pyplot as plt\n",
    "import pandas as pd\n",
    "import seaborn as sns\n",
    "\n",
    "## Set pandas printout options, for better look\n",
    "pd.set_option('display.max_row', 15)\n",
    "pd.set_option('display.max_columns', 15)\n",
    "pd.set_option('expand_frame_repr', False)\n",
    "pd.set_option('max_colwidth', 60)\n",
    "\n",
    "## Set train data root path\n",
    "root_path = os.path.abspath(os.path.join(os.path.dirname('__file__'), '../..'))\n",
    "\n",
    "df = pd.read_csv(root_path+'/dataset/userprofiling/'+'query_result_reg_all_20june17.csv',dtype={'article_id':'str','user_id':'str','city':'str'})\n",
    "\n",
    "## Change birthdate format, so we can calculate age of every related id\n",
    "df['birthdate'] = df['birthdate'].apply('{:06}'.format)\n",
    "df['birthdate'] = pd.to_datetime(df['birthdate'], format='%m%d%y')\n",
    "\n",
    "rep_var=['','N-A'] #variable replace\n",
    "\n",
    "## Clear all NaN Value, so become more readable\n",
    "df = df.replace(np.nan, rep_var[1], regex=True)\n",
    "\n",
    "## Create new copy of prior DataFrame and\n",
    "##  Select only appropriate column\n",
    "##    and filter empty `topic_id`\n",
    "df_filter = df.loc[(df['topic_id'] != '') & (df['city'] != '') & (df['os'] != ''), \\\n",
    "    ['user_id','gender','birthdate','event','event_time','city','browser','os','device'\\\n",
    "    ,'carrier','manufacturer','duration','topic_id','article_id']]\n",
    "\n",
    "now = pd.Timestamp(DT.datetime.now())\n",
    "\n",
    "## Calculate Age, by subtracting variable now(which is current date) and birtdate\n",
    "df_filter['birthdate'] = df_filter['birthdate'].where(df_filter['birthdate'] < now, df_filter['birthdate'] -  np.timedelta64(100, 'Y'))\n",
    "df_filter['birthdate'] = (now - df_filter['birthdate']).astype('<m8[Y]')\n",
    "\n",
    "df_filter.head(5) # get top 5"
   ]
  },
  {
   "cell_type": "markdown",
   "metadata": {},
   "source": [
    "* * *"
   ]
  },
  {
   "cell_type": "markdown",
   "metadata": {},
   "source": [
    "## All unique user_id x Carrier"
   ]
  },
  {
   "cell_type": "code",
   "execution_count": 4,
   "metadata": {
    "collapsed": false
   },
   "outputs": [
    {
     "name": "stdout",
     "output_type": "stream",
     "text": [
      "count          3853\n",
      "unique          117\n",
      "top       telkomsel\n",
      "freq           1629\n",
      "Name: carrier, dtype: object \n",
      "\n",
      "carrier\n",
      ",3                    1\n",
      "3                   287\n",
      "3,indosat             1\n",
      "510 09               18\n",
      "510 28               14\n",
      "51009                 2\n",
      "51028                 1\n",
      "                   ... \n",
      "xl axiata           144\n",
      "xl star               1\n",
      "xl,3                  1\n",
      "xl,ind telkomsel      2\n",
      "xl,xl                 1\n",
      "yes optus             1\n",
      "zain jo               1\n",
      "Length: 117, dtype: int64\n"
     ]
    }
   ],
   "source": [
    "df_filter['carrier'] = df_filter['carrier'].str.lower()\n",
    "\n",
    "df_carrier_unique = df_filter[['user_id','carrier']].loc[(df_filter['carrier']!='n-a')].groupby(['user_id','carrier']).size().to_frame()\n",
    "df_carrier_unique.index.names=['user_id','carrier']\n",
    "df_carrier_unique.reset_index(inplace=True)\n",
    "df_carrier_unique = df_carrier_unique.rename(columns={0: 'count'})\n",
    "\n",
    "print df_carrier_unique['carrier'].describe(),\"\\n\"\n",
    "print df_carrier_unique.groupby('carrier').size()"
   ]
  },
  {
   "cell_type": "code",
   "execution_count": 7,
   "metadata": {
    "collapsed": false
   },
   "outputs": [
    {
     "name": "stdout",
     "output_type": "stream",
     "text": [
      "         user_id          carrier  count\n",
      "0     1000548159          carrier    210\n",
      "1     1000570617        telkomsel      6\n",
      "2     1000607531  indosat ooredoo    608\n",
      "3     1000934985        telkomsel     66\n",
      "4     1001341258        telkomsel     76\n",
      "5     1001934100             axis     13\n",
      "6     1001934100      ind indosat     11\n",
      "...          ...              ...    ...\n",
      "3846   998189335        telkomsel    335\n",
      "3847   998292573  indosat ooredoo     33\n",
      "3848   998581740        telkomsel      2\n",
      "3849   998773504        smartfren    133\n",
      "3850   999384077          carrier     65\n",
      "3851   999424993        xl axiata     37\n",
      "3852   999608583               xl      2\n",
      "\n",
      "[3853 rows x 3 columns]\n"
     ]
    }
   ],
   "source": [
    "# Variable sanity check\n",
    "len(df_carrier_unique.loc[df_carrier_unique['carrier']=='telkomsel'])"
   ]
  },
  {
   "cell_type": "code",
   "execution_count": 8,
   "metadata": {
    "collapsed": false
   },
   "outputs": [
    {
     "data": {
      "image/png": "[encoded data removed]",
      "text/plain": [
       "<matplotlib.figure.Figure at 0x7f667bb1e610>"
      ]
     },
     "metadata": {},
     "output_type": "display_data"
    }
   ],
   "source": [
    "from matplotlib import cm\n",
    "from itertools import cycle, islice\n",
    "\n",
    "df_carrier = df_carrier_unique[['carrier']].groupby('carrier').size().to_frame()\n",
    "\n",
    "df_carrier.index.names = ['carrier']\n",
    "df_carrier.reset_index(inplace=True)\n",
    "df_carrier = df_carrier.rename(columns= {0: 'count'})\n",
    "\n",
    "opacity = 0.8\n",
    "df_carrier_fil = df_carrier.loc[(df_carrier['count'] > 100)]\n",
    "\n",
    "figcarrier = plt.figure(figsize=(14,4), dpi=120)\n",
    "axcarrier  = figcarrier.add_subplot(111)\n",
    "\n",
    "n = len(df_carrier_fil['count'])\n",
    "pos = list(range(n))\n",
    "width = 0.4\n",
    "\n",
    "# Set the position of the x ticks\n",
    "axcarrier.set_xticks([p + 2 * width for p in pos])\n",
    "# Set the labels for the x ticks\n",
    "axcarrier.set_xticklabels(df_carrier_fil['carrier'])\n",
    "# Rotate X-Ticks\n",
    "plt.xticks(rotation=90)\n",
    "\n",
    "# Define Colors\n",
    "color_list = []\n",
    "for i in range(0, n):\n",
    "    color_list.append(cm.Accent(1.*i/n))\n",
    "    \n",
    "my_colors = list(islice(cycle(color_list), None, len(df_carrier_fil)))\n",
    "\n",
    "# plot the bars\n",
    "plt.bar([p + width*1.5 for p in pos], df_carrier_fil['count'], width, \\\n",
    "        alpha=opacity, color=my_colors)\n",
    "\n",
    "plt.show()"
   ]
  },
  {
   "cell_type": "code",
   "execution_count": 31,
   "metadata": {
    "collapsed": false
   },
   "outputs": [
    {
     "data": {
      "text/html": [
       "<div>\n",
       "<style>\n",
       "    .dataframe thead tr:only-child th {\n",
       "        text-align: right;\n",
       "    }\n",
       "\n",
       "    .dataframe thead th {\n",
       "        text-align: left;\n",
       "    }\n",
       "\n",
       "    .dataframe tbody tr th {\n",
       "        vertical-align: top;\n",
       "    }\n",
       "</style>\n",
       "<table border=\"1\" class=\"dataframe\">\n",
       "  <thead>\n",
       "    <tr style=\"text-align: right;\">\n",
       "      <th></th>\n",
       "      <th>Carrier</th>\n",
       "      <th>Count</th>\n",
       "    </tr>\n",
       "  </thead>\n",
       "  <tbody>\n",
       "    <tr>\n",
       "      <th>0</th>\n",
       "      <td>telkomsel</td>\n",
       "      <td>1749</td>\n",
       "    </tr>\n",
       "    <tr>\n",
       "      <th>1</th>\n",
       "      <td>indosat</td>\n",
       "      <td>663</td>\n",
       "    </tr>\n",
       "    <tr>\n",
       "      <th>2</th>\n",
       "      <td>xl</td>\n",
       "      <td>611</td>\n",
       "    </tr>\n",
       "  </tbody>\n",
       "</table>\n",
       "</div>"
      ],
      "text/plain": [
       "     Carrier  Count\n",
       "0  telkomsel   1749\n",
       "1    indosat    663\n",
       "2         xl    611"
      ]
     },
     "execution_count": 31,
     "metadata": {},
     "output_type": "execute_result"
    }
   ],
   "source": [
    "# Grouping similar carrier name, becacuse inconsistency naming carrier\n",
    "carrier_to_select = ['xl','telkomsel','indosat']\n",
    "carrier_similarname = {}\n",
    "\n",
    "for car in carrier_to_select:\n",
    "    carrier_similarname[car]=df_carrier_fil['count'].loc[(df_carrier_fil['carrier'].str.contains(car, case=False))].sum()\n",
    "\n",
    "df_carrier_similarname = pd.DataFrame(carrier_similarname.items(), columns=['Carrier', 'Count'])\n",
    "\n",
    "df_carrier_similarname"
   ]
  },
  {
   "cell_type": "code",
   "execution_count": 40,
   "metadata": {
    "collapsed": false
   },
   "outputs": [
    {
     "data": {
      "image/png": "[encoded data removed]",
      "text/plain": [
       "<matplotlib.figure.Figure at 0x7f6680030750>"
      ]
     },
     "metadata": {},
     "output_type": "display_data"
    }
   ],
   "source": [
    "figsimcar, axsimcar = plt.subplots(figsize=(6,4), dpi=120)\n",
    "sns.barplot(x='Carrier', y='Count', data=df_carrier_similarname, ax=axsimcar)\n",
    "plt.show()"
   ]
  },
  {
   "cell_type": "markdown",
   "metadata": {},
   "source": [
    "## All unique user_id x Age"
   ]
  },
  {
   "cell_type": "code",
   "execution_count": 44,
   "metadata": {
    "collapsed": false
   },
   "outputs": [
    {
     "name": "stdout",
     "output_type": "stream",
     "text": [
      "Total Unique User: 11711\n"
     ]
    }
   ],
   "source": [
    "print \"Total Unique User: %d\"%len(df_filter[['user_id']].groupby('user_id').size())"
   ]
  },
  {
   "cell_type": "code",
   "execution_count": 45,
   "metadata": {
    "collapsed": true
   },
   "outputs": [],
   "source": [
    "## Rename field for better understanding with Database\n",
    "df_filter.rename(columns={'birthdate': 'age','article_id':'story_id'}, inplace=True)"
   ]
  },
  {
   "cell_type": "code",
   "execution_count": 46,
   "metadata": {
    "collapsed": false
   },
   "outputs": [
    {
     "name": "stdout",
     "output_type": "stream",
     "text": [
      "count    11711.000000\n",
      "mean        33.250021\n",
      "std         13.664005\n",
      "min          0.000000\n",
      "25%         22.000000\n",
      "50%         29.000000\n",
      "75%         41.000000\n",
      "max         99.000000\n",
      "Name: age, dtype: float64 \n",
      "\n",
      "age\n",
      "0.0      3\n",
      "1.0      8\n",
      "2.0      2\n",
      "3.0      2\n",
      "4.0      2\n",
      "5.0      1\n",
      "6.0      9\n",
      "        ..\n",
      "93.0     2\n",
      "94.0     1\n",
      "95.0     1\n",
      "96.0     3\n",
      "97.0    12\n",
      "98.0     9\n",
      "99.0     2\n",
      "Length: 97, dtype: int64\n"
     ]
    }
   ],
   "source": [
    "df_age_unique = df_filter[['user_id','age']].groupby(['user_id','age']).size().to_frame()\n",
    "df_age_unique.index.names=['user_id','age']\n",
    "df_age_unique.reset_index(inplace=True)\n",
    "df_age_unique = df_age_unique.rename(columns={0: 'count'})\n",
    "\n",
    "print df_age_unique['age'].describe(),\"\\n\"\n",
    "print df_age_unique.groupby('age').size()"
   ]
  },
  {
   "cell_type": "code",
   "execution_count": 47,
   "metadata": {
    "collapsed": false
   },
   "outputs": [
    {
     "name": "stdout",
     "output_type": "stream",
     "text": [
      "Central Tendency Measurements:\n",
      "------------------------------\n",
      "Mean   : 33.250021\n",
      "Median : 29.000000\n",
      "Mode   : 21.000000\n"
     ]
    }
   ],
   "source": [
    "print \"Central Tendency Measurements:\"\n",
    "print \"-\"*30\n",
    "print \"Mean   : %f\"% df_age_unique['age'].mean()\n",
    "print \"Median : %f\"% df_age_unique['age'].median()\n",
    "print \"Mode   : %f\"% df_age_unique['age'].mode().iloc[0]"
   ]
  },
  {
   "cell_type": "code",
   "execution_count": 48,
   "metadata": {
    "collapsed": false
   },
   "outputs": [
    {
     "name": "stdout",
     "output_type": "stream",
     "text": [
      "Measure of Dispersion:\n",
      "------------------------------\n",
      "Standard Deviation: 13.664005\n",
      "Variance          : 186.705033\n",
      "Range             : 99.000000\n"
     ]
    }
   ],
   "source": [
    "print \"Measure of Dispersion:\"\n",
    "print \"-\"*30\n",
    "print \"Standard Deviation: %f\"%df_age_unique['age'].std()\n",
    "print \"Variance          : %f\"%df_age_unique['age'].var() # this just math.sqrt(df_filter['age'].std())\n",
    "print \"Range             : %f\"%(df_age_unique['age'].max() - df_age_unique['age'].min())"
   ]
  },
  {
   "cell_type": "code",
   "execution_count": 52,
   "metadata": {
    "collapsed": false
   },
   "outputs": [
    {
     "name": "stdout",
     "output_type": "stream",
     "text": [
      "Standard Error of The Mean: 0.126264\n",
      "-------------------------\n",
      "The SE of 0.126264429935, being relatively small, gives us an indication that our mean is relatively close to the true mean of our overall population.\n"
     ]
    }
   ],
   "source": [
    "import math\n",
    "print \"Standard Error of The Mean: %f\"%(df_age_unique['age'].std()/math.sqrt(df_age_unique['age'].count()))\n",
    "print \"-\"*25\n",
    "print \"The SE of \"+str(df_age_unique['age'].std()/math.sqrt(df_age_unique['age'].count()))+\", being relatively small, gives us an indication that our mean is relatively close to the true mean of our overall population.\""
   ]
  },
  {
   "cell_type": "code",
   "execution_count": 55,
   "metadata": {
    "collapsed": false
   },
   "outputs": [
    {
     "data": {
      "image/png": "[encoded data removed]",
      "text/plain": [
       "<matplotlib.figure.Figure at 0x7f668010bf50>"
      ]
     },
     "metadata": {},
     "output_type": "display_data"
    }
   ],
   "source": [
    "plt.figure(figsize=(10,7))\n",
    "plt.boxplot(df_age_unique['age'], 0, 'gD')\n",
    "plt.show()"
   ]
  },
  {
   "cell_type": "markdown",
   "metadata": {},
   "source": [
    "Those **green points** on boxplot represent **potential outliers**."
   ]
  },
  {
   "cell_type": "code",
   "execution_count": 56,
   "metadata": {
    "collapsed": false
   },
   "outputs": [
    {
     "name": "stdout",
     "output_type": "stream",
     "text": [
      "Shape of Distribution:\n",
      "------------------------------\n",
      "Skewness : 1.149541\n",
      "Kurtosis : 1.461665\n"
     ]
    }
   ],
   "source": [
    "print \"Shape of Distribution:\"\n",
    "print \"-\"*30\n",
    "print \"Skewness : %f\"%df_age_unique['age'].skew()\n",
    "print \"Kurtosis : %f\"%df_age_unique['age'].kurt()"
   ]
  },
  {
   "cell_type": "markdown",
   "metadata": {},
   "source": [
    "If skewness is positive, the data are positively skewed or skewed right, meaning that the right tail of the distribution is longer than the left.\n",
    "\n",
    "If skewness is negative, the data are negatively skewed or skewed left, meaning that the left tail is longer.\n",
    "\n",
    "If skewness = 0, the data are perfectly symmetrical. But a skewness of exactly zero is quite unlikely for real-world data, so how can you interpret the skewness number? Bulmer (1979) — a classic — suggests this rule of thumb:\n",
    "\n",
    "* If skewness is less than −1 or greater than +1, the distribution is highly skewed.\n",
    "* If skewness is between −1 and −½ or between +½ and +1, the distribution is moderately skewed.\n",
    "* If skewness is between −½ and +½, the distribution is approximately symmetric."
   ]
  },
  {
   "cell_type": "markdown",
   "metadata": {},
   "source": [
    "The reference standard is a normal distribution, which has a kurtosis of 3.\n",
    "\n",
    "In token of this, often the excess kurtosis is presented: excess kurtosis is simply kurtosis−3. For example, the “kurtosis” reported by Excel is actually the excess kurtosis.\n",
    "\n",
    "* A normal distribution has kurtosis exactly 3 (excess kurtosis exactly 0). Any distribution with kurtosis ≈3 (excess ≈0) is called **mesokurtic**.\n",
    "* A distribution with kurtosis <3 (excess kurtosis <0) is called **platykurtic**. Compared to a normal distribution, its tails are shorter and thinner, and often its central peak is lower and broader.\n",
    "* A distribution with kurtosis >3 (excess kurtosis >0) is called **leptokurti**c. Compared to a normal distribution, its tails are longer and fatter, and often its central peak is higher and sharper."
   ]
  },
  {
   "cell_type": "markdown",
   "metadata": {},
   "source": [
    "Kita coba dengan mengelompokkan data kedalam 5 bagian umur:\n",
    "\n",
    "Group      | Age\n",
    "-----------| ---\n",
    "Tenage     | < 18\n",
    "Youngster  | 18-24\n",
    "Young      | 25-34\n",
    "Mid-Age    | 35-49\n",
    "Elder      | > 49"
   ]
  },
  {
   "cell_type": "code",
   "execution_count": 59,
   "metadata": {
    "collapsed": false
   },
   "outputs": [
    {
     "data": {
      "image/png": "[encoded data removed]",
      "text/plain": [
       "<matplotlib.figure.Figure at 0x7f667bfa2f10>"
      ]
     },
     "metadata": {},
     "output_type": "display_data"
    }
   ],
   "source": [
    "figagesh, axagesh = plt.subplots(figsize=(10,6), dpi=120)\n",
    "\n",
    "axagesh.set_ylabel(\"Freq\")\n",
    "axagesh.tick_params('y', colors='r')\n",
    "axagesh.set_xlabel('Age Group')\n",
    "\n",
    "df_age_unique.age.plot(kind='hist', ax=axagesh, xlim=[0, 100], bins=5, color='g', alpha=.41)\n",
    "df_age_unique.age.plot(kind='kde', ax=axagesh, secondary_y=True, color='r',xlim=[0, 100], alpha=.71)\n",
    "\n",
    "plt.ylabel('Density')\n",
    "plt.show()"
   ]
  }
 ],
 "metadata": {
  "anaconda-cloud": {},
  "kernelspec": {
   "display_name": "Python [conda root]",
   "language": "python",
   "name": "conda-root-py"
  },
  "language_info": {
   "codemirror_mode": {
    "name": "ipython",
    "version": 2
   },
   "file_extension": ".py",
   "mimetype": "text/x-python",
   "name": "python",
   "nbconvert_exporter": "python",
   "pygments_lexer": "ipython2",
   "version": "2.7.12"
  }
 },
 "nbformat": 4,
 "nbformat_minor": 1
}
